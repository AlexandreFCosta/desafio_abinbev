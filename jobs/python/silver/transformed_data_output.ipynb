{
 "cells": [
  {
   "cell_type": "code",
   "execution_count": 1,
   "id": "a1dcc917",
   "metadata": {
    "execution": {
     "iopub.execute_input": "2024-10-21T21:47:09.210781Z",
     "iopub.status.busy": "2024-10-21T21:47:09.210550Z",
     "iopub.status.idle": "2024-10-21T21:47:09.393372Z",
     "shell.execute_reply": "2024-10-21T21:47:09.392374Z"
    },
    "jupyter": {
     "source_hidden": true
    },
    "papermill": {
     "duration": 0.194123,
     "end_time": "2024-10-21T21:47:09.394874",
     "exception": false,
     "start_time": "2024-10-21T21:47:09.200751",
     "status": "completed"
    },
    "tags": []
   },
   "outputs": [],
   "source": [
    "from pyspark.sql import SparkSession"
   ]
  },
  {
   "cell_type": "code",
   "execution_count": 2,
   "id": "035017b8",
   "metadata": {
    "execution": {
     "iopub.execute_input": "2024-10-21T21:47:09.416241Z",
     "iopub.status.busy": "2024-10-21T21:47:09.415746Z",
     "iopub.status.idle": "2024-10-21T21:47:14.885230Z",
     "shell.execute_reply": "2024-10-21T21:47:14.882795Z"
    },
    "jupyter": {
     "source_hidden": true
    },
    "papermill": {
     "duration": 5.484935,
     "end_time": "2024-10-21T21:47:14.887974",
     "exception": false,
     "start_time": "2024-10-21T21:47:09.403039",
     "status": "completed"
    },
    "tags": []
   },
   "outputs": [
    {
     "name": "stderr",
     "output_type": "stream",
     "text": [
      "/usr/local/spark/bin/load-spark-env.sh: line 68: ps: command not found\n"
     ]
    },
    {
     "name": "stderr",
     "output_type": "stream",
     "text": [
      "Setting default log level to \"WARN\".\n",
      "To adjust logging level use sc.setLogLevel(newLevel). For SparkR, use setLogLevel(newLevel).\n"
     ]
    },
    {
     "name": "stderr",
     "output_type": "stream",
     "text": [
      "24/10/21 21:47:12 WARN NativeCodeLoader: Unable to load native-hadoop library for your platform... using builtin-java classes where applicable\n"
     ]
    }
   ],
   "source": [
    "spark = SparkSession.builder \\\n",
    "    .appName(\"MyApp\") \\\n",
    "    .config(\"spark.pyspark.python\", \"C:/Users/alexa/AppData/Local/Programs/Python/Python39/python.exe\") \\\n",
    "    .config(\"spark.pyspark.driver.python\", \"C:/Users/alexa/AppData/Local/Programs/Python/Python39/python.exe\") \\\n",
    "    .getOrCreate()"
   ]
  },
  {
   "cell_type": "code",
   "execution_count": 3,
   "id": "00bf10b2",
   "metadata": {
    "execution": {
     "iopub.execute_input": "2024-10-21T21:47:14.955288Z",
     "iopub.status.busy": "2024-10-21T21:47:14.954805Z",
     "iopub.status.idle": "2024-10-21T21:47:22.445865Z",
     "shell.execute_reply": "2024-10-21T21:47:22.444500Z"
    },
    "jupyter": {
     "source_hidden": true
    },
    "papermill": {
     "duration": 7.543637,
     "end_time": "2024-10-21T21:47:22.448347",
     "exception": false,
     "start_time": "2024-10-21T21:47:14.904710",
     "status": "completed"
    },
    "tags": []
   },
   "outputs": [
    {
     "name": "stderr",
     "output_type": "stream",
     "text": [
      "\r",
      "[Stage 0:>                                                          (0 + 1) / 1]\r"
     ]
    },
    {
     "name": "stderr",
     "output_type": "stream",
     "text": [
      "\r",
      "                                                                                \r"
     ]
    }
   ],
   "source": [
    "# Caminho para o arquivo JSON\n",
    "bronze_path = '/opt/airflow/bronze_layer/breweries_raw.json'\n",
    "\n",
    "df = spark.read.json(bronze_path)"
   ]
  },
  {
   "cell_type": "code",
   "execution_count": 4,
   "id": "c2a6515c",
   "metadata": {
    "execution": {
     "iopub.execute_input": "2024-10-21T21:47:22.471737Z",
     "iopub.status.busy": "2024-10-21T21:47:22.470736Z",
     "iopub.status.idle": "2024-10-21T21:47:22.475642Z",
     "shell.execute_reply": "2024-10-21T21:47:22.474552Z"
    },
    "jupyter": {
     "source_hidden": true
    },
    "papermill": {
     "duration": 0.021202,
     "end_time": "2024-10-21T21:47:22.477335",
     "exception": false,
     "start_time": "2024-10-21T21:47:22.456133",
     "status": "completed"
    },
    "tags": []
   },
   "outputs": [],
   "source": [
    "# Caminho para salvar o DataFrame no formato parquet\n",
    "silver_path = '/opt/airflow/silver_layer'"
   ]
  },
  {
   "cell_type": "code",
   "execution_count": 5,
   "id": "125dd73e",
   "metadata": {
    "execution": {
     "iopub.execute_input": "2024-10-21T21:47:22.502777Z",
     "iopub.status.busy": "2024-10-21T21:47:22.502453Z",
     "iopub.status.idle": "2024-10-21T21:47:29.010826Z",
     "shell.execute_reply": "2024-10-21T21:47:29.009991Z"
    },
    "jupyter": {
     "source_hidden": true
    },
    "papermill": {
     "duration": 6.524629,
     "end_time": "2024-10-21T21:47:29.011983",
     "exception": false,
     "start_time": "2024-10-21T21:47:22.487354",
     "status": "completed"
    },
    "tags": []
   },
   "outputs": [
    {
     "name": "stderr",
     "output_type": "stream",
     "text": [
      "\r",
      "[Stage 1:>                                                          (0 + 1) / 1]\r"
     ]
    },
    {
     "name": "stderr",
     "output_type": "stream",
     "text": [
      "\r",
      "                                                                                \r"
     ]
    },
    {
     "name": "stdout",
     "output_type": "stream",
     "text": [
      "Dados transformados e salvos em /opt/airflow/silver_layer\n"
     ]
    }
   ],
   "source": [
    "df.write.mode('append') \\\n",
    "    .partitionBy('state', 'country') \\\n",
    "    .parquet(silver_path)\n",
    "\n",
    "print(f\"Dados transformados e salvos em {silver_path}\")\n",
    "\n",
    "spark.stop()"
   ]
  }
 ],
 "metadata": {
  "kernelspec": {
   "display_name": "Python 3",
   "language": "python",
   "name": "python3"
  },
  "language_info": {
   "codemirror_mode": {
    "name": "ipython",
    "version": 3
   },
   "file_extension": ".py",
   "mimetype": "text/x-python",
   "name": "python",
   "nbconvert_exporter": "python",
   "pygments_lexer": "ipython3",
   "version": "3.11.5"
  },
  "papermill": {
   "default_parameters": {},
   "duration": 24.818341,
   "end_time": "2024-10-21T21:47:31.638541",
   "environment_variables": {},
   "exception": null,
   "input_path": "/opt/airflow/jobs/python/silver/transform_data.ipynb",
   "output_path": "/opt/airflow/jobs/python/silver/transformed_data_output.ipynb",
   "parameters": {},
   "start_time": "2024-10-21T21:47:06.820200",
   "version": "2.6.0"
  }
 },
 "nbformat": 4,
 "nbformat_minor": 5
}