{
 "cells": [
  {
   "cell_type": "code",
   "execution_count": 1,
   "id": "c19ee306",
   "metadata": {
    "execution": {
     "iopub.execute_input": "2024-10-21T12:39:14.675241Z",
     "iopub.status.busy": "2024-10-21T12:39:14.673941Z",
     "iopub.status.idle": "2024-10-21T12:39:14.873523Z",
     "shell.execute_reply": "2024-10-21T12:39:14.872516Z"
    },
    "jupyter": {
     "source_hidden": true
    },
    "papermill": {
     "duration": 0.233772,
     "end_time": "2024-10-21T12:39:14.875330",
     "exception": false,
     "start_time": "2024-10-21T12:39:14.641558",
     "status": "completed"
    },
    "tags": []
   },
   "outputs": [],
   "source": [
    "from pyspark.sql import SparkSession"
   ]
  },
  {
   "cell_type": "code",
   "execution_count": 2,
   "id": "9d676f4a",
   "metadata": {
    "execution": {
     "iopub.execute_input": "2024-10-21T12:39:14.905184Z",
     "iopub.status.busy": "2024-10-21T12:39:14.904693Z",
     "iopub.status.idle": "2024-10-21T12:39:19.022746Z",
     "shell.execute_reply": "2024-10-21T12:39:19.021360Z"
    },
    "jupyter": {
     "source_hidden": true
    },
    "papermill": {
     "duration": 4.13995,
     "end_time": "2024-10-21T12:39:19.024782",
     "exception": false,
     "start_time": "2024-10-21T12:39:14.884832",
     "status": "completed"
    },
    "tags": []
   },
   "outputs": [
    {
     "name": "stderr",
     "output_type": "stream",
     "text": [
      "/usr/local/spark/bin/load-spark-env.sh: line 68: ps: command not found\n"
     ]
    },
    {
     "name": "stderr",
     "output_type": "stream",
     "text": [
      "Setting default log level to \"WARN\".\n",
      "To adjust logging level use sc.setLogLevel(newLevel). For SparkR, use setLogLevel(newLevel).\n"
     ]
    },
    {
     "name": "stderr",
     "output_type": "stream",
     "text": [
      "24/10/21 12:39:17 WARN NativeCodeLoader: Unable to load native-hadoop library for your platform... using builtin-java classes where applicable\n"
     ]
    }
   ],
   "source": [
    "spark = SparkSession.builder \\\n",
    "    .appName(\"MyApp\") \\\n",
    "    .config(\"spark.pyspark.python\", \"C:/Users/alexa/AppData/Local/Programs/Python/Python39/python.exe\") \\\n",
    "    .config(\"spark.pyspark.driver.python\", \"C:/Users/alexa/AppData/Local/Programs/Python/Python39/python.exe\") \\\n",
    "    .getOrCreate()"
   ]
  },
  {
   "cell_type": "code",
   "execution_count": 3,
   "id": "73f347b0",
   "metadata": {
    "execution": {
     "iopub.execute_input": "2024-10-21T12:39:19.059672Z",
     "iopub.status.busy": "2024-10-21T12:39:19.059245Z",
     "iopub.status.idle": "2024-10-21T12:39:24.625778Z",
     "shell.execute_reply": "2024-10-21T12:39:24.623397Z"
    },
    "jupyter": {
     "source_hidden": true
    },
    "papermill": {
     "duration": 5.594373,
     "end_time": "2024-10-21T12:39:24.628741",
     "exception": false,
     "start_time": "2024-10-21T12:39:19.034368",
     "status": "completed"
    },
    "tags": []
   },
   "outputs": [
    {
     "name": "stderr",
     "output_type": "stream",
     "text": [
      "\r",
      "[Stage 0:>                                                          (0 + 1) / 1]\r"
     ]
    },
    {
     "name": "stderr",
     "output_type": "stream",
     "text": [
      "\r",
      "                                                                                \r"
     ]
    }
   ],
   "source": [
    "# Caminho para o arquivo JSON\n",
    "bronze_path = '/opt/airflow/bronze_layer/breweries_raw.json'\n",
    "\n",
    "df = spark.read.json(bronze_path)"
   ]
  },
  {
   "cell_type": "code",
   "execution_count": 4,
   "id": "78fcbeb5",
   "metadata": {
    "execution": {
     "iopub.execute_input": "2024-10-21T12:39:24.660417Z",
     "iopub.status.busy": "2024-10-21T12:39:24.659646Z",
     "iopub.status.idle": "2024-10-21T12:39:24.670750Z",
     "shell.execute_reply": "2024-10-21T12:39:24.668747Z"
    },
    "jupyter": {
     "source_hidden": true
    },
    "papermill": {
     "duration": 0.033589,
     "end_time": "2024-10-21T12:39:24.673291",
     "exception": false,
     "start_time": "2024-10-21T12:39:24.639702",
     "status": "completed"
    },
    "tags": []
   },
   "outputs": [],
   "source": [
    "# Caminho para salvar o DataFrame no formato parquet\n",
    "silver_path = '/opt/airflow/silver_layer'"
   ]
  },
  {
   "cell_type": "code",
   "execution_count": 5,
   "id": "e699f990",
   "metadata": {
    "execution": {
     "iopub.execute_input": "2024-10-21T12:39:24.713095Z",
     "iopub.status.busy": "2024-10-21T12:39:24.712498Z",
     "iopub.status.idle": "2024-10-21T12:39:38.836940Z",
     "shell.execute_reply": "2024-10-21T12:39:38.835792Z"
    },
    "jupyter": {
     "source_hidden": true
    },
    "papermill": {
     "duration": 14.148644,
     "end_time": "2024-10-21T12:39:38.838666",
     "exception": false,
     "start_time": "2024-10-21T12:39:24.690022",
     "status": "completed"
    },
    "tags": []
   },
   "outputs": [
    {
     "name": "stderr",
     "output_type": "stream",
     "text": [
      "\r",
      "[Stage 1:>                                                          (0 + 1) / 1]\r"
     ]
    },
    {
     "name": "stderr",
     "output_type": "stream",
     "text": [
      "\r",
      "                                                                                \r"
     ]
    },
    {
     "name": "stdout",
     "output_type": "stream",
     "text": [
      "Dados transformados e salvos em /opt/airflow/silver_layer\n"
     ]
    }
   ],
   "source": [
    "df.write.mode('append') \\\n",
    "    .partitionBy('state', 'country') \\\n",
    "    .parquet(silver_path)\n",
    "\n",
    "print(f\"Dados transformados e salvos em {silver_path}\")\n",
    "\n",
    "spark.stop()"
   ]
  }
 ],
 "metadata": {
  "kernelspec": {
   "display_name": "Python 3",
   "language": "python",
   "name": "python3"
  },
  "language_info": {
   "codemirror_mode": {
    "name": "ipython",
    "version": 3
   },
   "file_extension": ".py",
   "mimetype": "text/x-python",
   "name": "python",
   "nbconvert_exporter": "python",
   "pygments_lexer": "ipython3",
   "version": "3.11.5"
  },
  "papermill": {
   "default_parameters": {},
   "duration": 29.333508,
   "end_time": "2024-10-21T12:39:41.475036",
   "environment_variables": {},
   "exception": null,
   "input_path": "/opt/airflow/jobs/python/silver/transform_data.ipynb",
   "output_path": "/opt/airflow/jobs/python/silver/transformed_data_output.ipynb",
   "parameters": {},
   "start_time": "2024-10-21T12:39:12.141528",
   "version": "2.6.0"
  }
 },
 "nbformat": 4,
 "nbformat_minor": 5
}