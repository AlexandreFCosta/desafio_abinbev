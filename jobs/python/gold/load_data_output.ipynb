{
 "cells": [
  {
   "cell_type": "code",
   "execution_count": 1,
   "id": "c0d051d1",
   "metadata": {
    "execution": {
     "iopub.execute_input": "2024-10-21T12:39:56.205160Z",
     "iopub.status.busy": "2024-10-21T12:39:56.204652Z",
     "iopub.status.idle": "2024-10-21T12:39:56.392654Z",
     "shell.execute_reply": "2024-10-21T12:39:56.390961Z"
    },
    "jupyter": {
     "source_hidden": true
    },
    "papermill": {
     "duration": 0.213764,
     "end_time": "2024-10-21T12:39:56.394358",
     "exception": false,
     "start_time": "2024-10-21T12:39:56.180594",
     "status": "completed"
    },
    "tags": []
   },
   "outputs": [],
   "source": [
    "from pyspark.sql import SparkSession"
   ]
  },
  {
   "cell_type": "code",
   "execution_count": 2,
   "id": "151bbb47",
   "metadata": {
    "execution": {
     "iopub.execute_input": "2024-10-21T12:39:56.422473Z",
     "iopub.status.busy": "2024-10-21T12:39:56.421788Z",
     "iopub.status.idle": "2024-10-21T12:40:01.064851Z",
     "shell.execute_reply": "2024-10-21T12:40:01.063679Z"
    },
    "jupyter": {
     "source_hidden": true
    },
    "papermill": {
     "duration": 4.66303,
     "end_time": "2024-10-21T12:40:01.066519",
     "exception": false,
     "start_time": "2024-10-21T12:39:56.403489",
     "status": "completed"
    },
    "tags": []
   },
   "outputs": [
    {
     "name": "stderr",
     "output_type": "stream",
     "text": [
      "/usr/local/spark/bin/load-spark-env.sh: line 68: ps: command not found\n"
     ]
    },
    {
     "name": "stderr",
     "output_type": "stream",
     "text": [
      "Setting default log level to \"WARN\".\n",
      "To adjust logging level use sc.setLogLevel(newLevel). For SparkR, use setLogLevel(newLevel).\n"
     ]
    },
    {
     "name": "stderr",
     "output_type": "stream",
     "text": [
      "24/10/21 12:39:59 WARN NativeCodeLoader: Unable to load native-hadoop library for your platform... using builtin-java classes where applicable\n"
     ]
    }
   ],
   "source": [
    "spark = SparkSession.builder \\\n",
    "    .appName(\"MyApp\") \\\n",
    "    .config(\"spark.pyspark.python\", \"C:/Users/alexa/AppData/Local/Programs/Python/Python39/python.exe\") \\\n",
    "    .config(\"spark.pyspark.driver.python\", \"C:/Users/alexa/AppData/Local/Programs/Python/Python39/python.exe\") \\\n",
    "    .getOrCreate()"
   ]
  },
  {
   "cell_type": "code",
   "execution_count": 3,
   "id": "dc9555d1",
   "metadata": {
    "execution": {
     "iopub.execute_input": "2024-10-21T12:40:01.094960Z",
     "iopub.status.busy": "2024-10-21T12:40:01.093410Z",
     "iopub.status.idle": "2024-10-21T12:40:12.274385Z",
     "shell.execute_reply": "2024-10-21T12:40:12.273523Z"
    },
    "jupyter": {
     "source_hidden": true
    },
    "papermill": {
     "duration": 11.200429,
     "end_time": "2024-10-21T12:40:12.275791",
     "exception": false,
     "start_time": "2024-10-21T12:40:01.075362",
     "status": "completed"
    },
    "tags": []
   },
   "outputs": [
    {
     "name": "stderr",
     "output_type": "stream",
     "text": [
      "\r",
      "[Stage 0:>                                                          (0 + 1) / 1]\r"
     ]
    },
    {
     "name": "stderr",
     "output_type": "stream",
     "text": [
      "\r",
      "                                                                                \r"
     ]
    }
   ],
   "source": [
    "# Caminho para os dados na camada silver (parquet)\n",
    "silver_path = '/opt/airflow/silver_layer'\n",
    "\n",
    "# Carregar os dados particionados da camada silver\n",
    "df_silver = spark.read.parquet(silver_path)\n",
    "\n",
    "# Agrupamento por tipo de cervejaria e estado\n",
    "df_gold = df_silver.groupBy(\"state\", \"brewery_type\").count()"
   ]
  },
  {
   "cell_type": "code",
   "execution_count": 4,
   "id": "cdbd2d48",
   "metadata": {
    "execution": {
     "iopub.execute_input": "2024-10-21T12:40:12.299862Z",
     "iopub.status.busy": "2024-10-21T12:40:12.299537Z",
     "iopub.status.idle": "2024-10-21T12:40:12.304495Z",
     "shell.execute_reply": "2024-10-21T12:40:12.303407Z"
    },
    "jupyter": {
     "source_hidden": true
    },
    "papermill": {
     "duration": 0.020509,
     "end_time": "2024-10-21T12:40:12.306264",
     "exception": false,
     "start_time": "2024-10-21T12:40:12.285755",
     "status": "completed"
    },
    "tags": []
   },
   "outputs": [],
   "source": [
    "gold_path = '/opt/airflow/gold_layer'"
   ]
  },
  {
   "cell_type": "code",
   "execution_count": 5,
   "id": "1481b869",
   "metadata": {
    "execution": {
     "iopub.execute_input": "2024-10-21T12:40:12.342330Z",
     "iopub.status.busy": "2024-10-21T12:40:12.341976Z",
     "iopub.status.idle": "2024-10-21T12:40:12.622504Z",
     "shell.execute_reply": "2024-10-21T12:40:12.618532Z"
    },
    "jupyter": {
     "source_hidden": true
    },
    "papermill": {
     "duration": 0.310262,
     "end_time": "2024-10-21T12:40:12.627113",
     "exception": false,
     "start_time": "2024-10-21T12:40:12.316851",
     "status": "completed"
    },
    "tags": [],
    "vscode": {
     "languageId": "shellscript"
    }
   },
   "outputs": [],
   "source": [
    "rm -rf /opt/airflow/gold_layer/*"
   ]
  },
  {
   "cell_type": "code",
   "execution_count": 6,
   "id": "945e2bb6",
   "metadata": {
    "execution": {
     "iopub.execute_input": "2024-10-21T12:40:12.681868Z",
     "iopub.status.busy": "2024-10-21T12:40:12.680962Z",
     "iopub.status.idle": "2024-10-21T12:40:22.233595Z",
     "shell.execute_reply": "2024-10-21T12:40:22.232164Z"
    },
    "jupyter": {
     "source_hidden": true
    },
    "papermill": {
     "duration": 9.580857,
     "end_time": "2024-10-21T12:40:22.235374",
     "exception": false,
     "start_time": "2024-10-21T12:40:12.654517",
     "status": "completed"
    },
    "tags": []
   },
   "outputs": [
    {
     "name": "stderr",
     "output_type": "stream",
     "text": [
      "\r",
      "[Stage 1:>                                                          (0 + 8) / 8]\r"
     ]
    },
    {
     "name": "stderr",
     "output_type": "stream",
     "text": [
      "\r",
      "[Stage 1:=======>                                                   (1 + 7) / 8]\r"
     ]
    },
    {
     "name": "stderr",
     "output_type": "stream",
     "text": [
      "\r",
      "                                                                                \r"
     ]
    }
   ],
   "source": [
    "df_gold.write.mode('append').parquet(gold_path)"
   ]
  },
  {
   "cell_type": "code",
   "execution_count": 7,
   "id": "3fddd3b3",
   "metadata": {
    "execution": {
     "iopub.execute_input": "2024-10-21T12:40:22.264020Z",
     "iopub.status.busy": "2024-10-21T12:40:22.263625Z",
     "iopub.status.idle": "2024-10-21T12:40:22.859556Z",
     "shell.execute_reply": "2024-10-21T12:40:22.857012Z"
    },
    "jupyter": {
     "source_hidden": true
    },
    "papermill": {
     "duration": 0.616853,
     "end_time": "2024-10-21T12:40:22.864137",
     "exception": false,
     "start_time": "2024-10-21T12:40:22.247284",
     "status": "completed"
    },
    "tags": []
   },
   "outputs": [],
   "source": [
    "spark.stop()"
   ]
  }
 ],
 "metadata": {
  "kernelspec": {
   "display_name": "Python 3",
   "language": "python",
   "name": "python3"
  },
  "language_info": {
   "codemirror_mode": {
    "name": "ipython",
    "version": 3
   },
   "file_extension": ".py",
   "mimetype": "text/x-python",
   "name": "python",
   "nbconvert_exporter": "python",
   "pygments_lexer": "ipython3",
   "version": "3.11.5"
  },
  "papermill": {
   "default_parameters": {},
   "duration": 31.650648,
   "end_time": "2024-10-21T12:40:25.523822",
   "environment_variables": {},
   "exception": null,
   "input_path": "/opt/airflow/jobs/python/gold/load_data.ipynb",
   "output_path": "/opt/airflow/jobs/python/gold/load_data_output.ipynb",
   "parameters": {},
   "start_time": "2024-10-21T12:39:53.873174",
   "version": "2.6.0"
  }
 },
 "nbformat": 4,
 "nbformat_minor": 5
}