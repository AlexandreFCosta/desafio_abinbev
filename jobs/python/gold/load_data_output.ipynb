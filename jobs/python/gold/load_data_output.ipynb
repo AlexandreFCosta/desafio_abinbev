{
 "cells": [
  {
   "cell_type": "code",
   "execution_count": 1,
   "id": "fdce4ca6",
   "metadata": {
    "execution": {
     "iopub.execute_input": "2024-10-21T21:47:44.106869Z",
     "iopub.status.busy": "2024-10-21T21:47:44.105823Z",
     "iopub.status.idle": "2024-10-21T21:47:44.297086Z",
     "shell.execute_reply": "2024-10-21T21:47:44.296274Z"
    },
    "jupyter": {
     "source_hidden": true
    },
    "papermill": {
     "duration": 0.20137,
     "end_time": "2024-10-21T21:47:44.298444",
     "exception": false,
     "start_time": "2024-10-21T21:47:44.097074",
     "status": "completed"
    },
    "tags": []
   },
   "outputs": [],
   "source": [
    "from pyspark.sql import SparkSession"
   ]
  },
  {
   "cell_type": "code",
   "execution_count": 2,
   "id": "5237cae7",
   "metadata": {
    "execution": {
     "iopub.execute_input": "2024-10-21T21:47:44.315886Z",
     "iopub.status.busy": "2024-10-21T21:47:44.315550Z",
     "iopub.status.idle": "2024-10-21T21:47:48.393367Z",
     "shell.execute_reply": "2024-10-21T21:47:48.391793Z"
    },
    "jupyter": {
     "source_hidden": true
    },
    "papermill": {
     "duration": 4.090544,
     "end_time": "2024-10-21T21:47:48.394896",
     "exception": false,
     "start_time": "2024-10-21T21:47:44.304352",
     "status": "completed"
    },
    "tags": []
   },
   "outputs": [
    {
     "name": "stderr",
     "output_type": "stream",
     "text": [
      "/usr/local/spark/bin/load-spark-env.sh: line 68: ps: command not found\n"
     ]
    },
    {
     "name": "stderr",
     "output_type": "stream",
     "text": [
      "Setting default log level to \"WARN\".\n",
      "To adjust logging level use sc.setLogLevel(newLevel). For SparkR, use setLogLevel(newLevel).\n"
     ]
    },
    {
     "name": "stderr",
     "output_type": "stream",
     "text": [
      "24/10/21 21:47:46 WARN NativeCodeLoader: Unable to load native-hadoop library for your platform... using builtin-java classes where applicable\n"
     ]
    }
   ],
   "source": [
    "spark = SparkSession.builder \\\n",
    "    .appName(\"MyApp\") \\\n",
    "    .config(\"spark.pyspark.python\", \"C:/Users/alexa/AppData/Local/Programs/Python/Python39/python.exe\") \\\n",
    "    .config(\"spark.pyspark.driver.python\", \"C:/Users/alexa/AppData/Local/Programs/Python/Python39/python.exe\") \\\n",
    "    .getOrCreate()"
   ]
  },
  {
   "cell_type": "code",
   "execution_count": 3,
   "id": "2c43eeb8",
   "metadata": {
    "execution": {
     "iopub.execute_input": "2024-10-21T21:47:48.422768Z",
     "iopub.status.busy": "2024-10-21T21:47:48.422026Z",
     "iopub.status.idle": "2024-10-21T21:47:53.229316Z",
     "shell.execute_reply": "2024-10-21T21:47:53.227403Z"
    },
    "jupyter": {
     "source_hidden": true
    },
    "papermill": {
     "duration": 4.830119,
     "end_time": "2024-10-21T21:47:53.231239",
     "exception": false,
     "start_time": "2024-10-21T21:47:48.401120",
     "status": "completed"
    },
    "tags": []
   },
   "outputs": [
    {
     "name": "stderr",
     "output_type": "stream",
     "text": [
      "\r",
      "[Stage 0:>                                                          (0 + 1) / 1]\r"
     ]
    },
    {
     "name": "stderr",
     "output_type": "stream",
     "text": [
      "\r",
      "                                                                                \r"
     ]
    }
   ],
   "source": [
    "# Caminho para os dados na camada silver (parquet)\n",
    "silver_path = '/opt/airflow/silver_layer'\n",
    "\n",
    "# Carregar os dados particionados da camada silver\n",
    "df_silver = spark.read.parquet(silver_path)\n",
    "\n",
    "# Agrupamento por tipo de cervejaria e estado\n",
    "df_gold = df_silver.groupBy(\"state\", \"brewery_type\").count()"
   ]
  },
  {
   "cell_type": "code",
   "execution_count": 4,
   "id": "eed1884e",
   "metadata": {
    "execution": {
     "iopub.execute_input": "2024-10-21T21:47:53.262545Z",
     "iopub.status.busy": "2024-10-21T21:47:53.261638Z",
     "iopub.status.idle": "2024-10-21T21:47:53.267415Z",
     "shell.execute_reply": "2024-10-21T21:47:53.266199Z"
    },
    "jupyter": {
     "source_hidden": true
    },
    "papermill": {
     "duration": 0.031156,
     "end_time": "2024-10-21T21:47:53.269149",
     "exception": false,
     "start_time": "2024-10-21T21:47:53.237993",
     "status": "completed"
    },
    "tags": []
   },
   "outputs": [],
   "source": [
    "gold_path = '/opt/airflow/gold_layer'"
   ]
  },
  {
   "cell_type": "code",
   "execution_count": 5,
   "id": "556b0acd",
   "metadata": {
    "execution": {
     "iopub.execute_input": "2024-10-21T21:47:53.289593Z",
     "iopub.status.busy": "2024-10-21T21:47:53.289063Z",
     "iopub.status.idle": "2024-10-21T21:47:53.579779Z",
     "shell.execute_reply": "2024-10-21T21:47:53.578395Z"
    },
    "jupyter": {
     "source_hidden": true
    },
    "papermill": {
     "duration": 0.304625,
     "end_time": "2024-10-21T21:47:53.581134",
     "exception": false,
     "start_time": "2024-10-21T21:47:53.276509",
     "status": "completed"
    },
    "tags": [],
    "vscode": {
     "languageId": "shellscript"
    }
   },
   "outputs": [],
   "source": [
    "rm -rf /opt/airflow/gold_layer/*"
   ]
  },
  {
   "cell_type": "code",
   "execution_count": 6,
   "id": "94f5cb70",
   "metadata": {
    "execution": {
     "iopub.execute_input": "2024-10-21T21:47:53.603074Z",
     "iopub.status.busy": "2024-10-21T21:47:53.602646Z",
     "iopub.status.idle": "2024-10-21T21:47:58.983018Z",
     "shell.execute_reply": "2024-10-21T21:47:58.981850Z"
    },
    "jupyter": {
     "source_hidden": true
    },
    "papermill": {
     "duration": 5.395457,
     "end_time": "2024-10-21T21:47:58.984412",
     "exception": false,
     "start_time": "2024-10-21T21:47:53.588955",
     "status": "completed"
    },
    "tags": []
   },
   "outputs": [
    {
     "name": "stderr",
     "output_type": "stream",
     "text": [
      "\r",
      "[Stage 1:>                                                          (0 + 7) / 7]\r"
     ]
    },
    {
     "name": "stderr",
     "output_type": "stream",
     "text": [
      "\r",
      "[Stage 1:=================================>                         (4 + 3) / 7]\r"
     ]
    },
    {
     "name": "stderr",
     "output_type": "stream",
     "text": [
      "\r",
      "[Stage 3:>                                                          (0 + 1) / 1]\r",
      "\r",
      "                                                                                \r"
     ]
    }
   ],
   "source": [
    "df_gold.write.mode('append').parquet(gold_path)"
   ]
  },
  {
   "cell_type": "code",
   "execution_count": 7,
   "id": "0d63c640",
   "metadata": {
    "execution": {
     "iopub.execute_input": "2024-10-21T21:47:59.006400Z",
     "iopub.status.busy": "2024-10-21T21:47:59.005998Z",
     "iopub.status.idle": "2024-10-21T21:47:59.254324Z",
     "shell.execute_reply": "2024-10-21T21:47:59.253476Z"
    },
    "jupyter": {
     "source_hidden": true
    },
    "papermill": {
     "duration": 0.263063,
     "end_time": "2024-10-21T21:47:59.255398",
     "exception": false,
     "start_time": "2024-10-21T21:47:58.992335",
     "status": "completed"
    },
    "tags": []
   },
   "outputs": [],
   "source": [
    "spark.stop()"
   ]
  }
 ],
 "metadata": {
  "kernelspec": {
   "display_name": "Python 3",
   "language": "python",
   "name": "python3"
  },
  "language_info": {
   "codemirror_mode": {
    "name": "ipython",
    "version": 3
   },
   "file_extension": ".py",
   "mimetype": "text/x-python",
   "name": "python",
   "nbconvert_exporter": "python",
   "pygments_lexer": "ipython3",
   "version": "3.11.5"
  },
  "papermill": {
   "default_parameters": {},
   "duration": 19.827362,
   "end_time": "2024-10-21T21:48:01.883527",
   "environment_variables": {},
   "exception": null,
   "input_path": "/opt/airflow/jobs/python/gold/load_data.ipynb",
   "output_path": "/opt/airflow/jobs/python/gold/load_data_output.ipynb",
   "parameters": {},
   "start_time": "2024-10-21T21:47:42.056165",
   "version": "2.6.0"
  }
 },
 "nbformat": 4,
 "nbformat_minor": 5
}