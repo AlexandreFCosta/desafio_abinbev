{
 "cells": [
  {
   "cell_type": "code",
   "execution_count": 1,
   "id": "0a2f1d5a",
   "metadata": {
    "execution": {
     "iopub.execute_input": "2024-10-20T23:08:50.493648Z",
     "iopub.status.busy": "2024-10-20T23:08:50.493090Z",
     "iopub.status.idle": "2024-10-20T23:08:50.646711Z",
     "shell.execute_reply": "2024-10-20T23:08:50.645608Z"
    },
    "jupyter": {
     "source_hidden": true
    },
    "papermill": {
     "duration": 0.164323,
     "end_time": "2024-10-20T23:08:50.648133",
     "exception": false,
     "start_time": "2024-10-20T23:08:50.483810",
     "status": "completed"
    },
    "tags": []
   },
   "outputs": [],
   "source": [
    "from pyspark.sql import SparkSession"
   ]
  },
  {
   "cell_type": "code",
   "execution_count": 2,
   "id": "e7c8a394",
   "metadata": {
    "execution": {
     "iopub.execute_input": "2024-10-20T23:08:50.664784Z",
     "iopub.status.busy": "2024-10-20T23:08:50.664414Z",
     "iopub.status.idle": "2024-10-20T23:08:54.476447Z",
     "shell.execute_reply": "2024-10-20T23:08:54.475384Z"
    },
    "jupyter": {
     "source_hidden": true
    },
    "papermill": {
     "duration": 3.823412,
     "end_time": "2024-10-20T23:08:54.478147",
     "exception": false,
     "start_time": "2024-10-20T23:08:50.654735",
     "status": "completed"
    },
    "tags": []
   },
   "outputs": [
    {
     "name": "stderr",
     "output_type": "stream",
     "text": [
      "/usr/local/spark/bin/load-spark-env.sh: line 68: ps: command not found\n"
     ]
    },
    {
     "name": "stderr",
     "output_type": "stream",
     "text": [
      "Setting default log level to \"WARN\".\n",
      "To adjust logging level use sc.setLogLevel(newLevel). For SparkR, use setLogLevel(newLevel).\n"
     ]
    },
    {
     "name": "stderr",
     "output_type": "stream",
     "text": [
      "24/10/20 23:08:52 WARN NativeCodeLoader: Unable to load native-hadoop library for your platform... using builtin-java classes where applicable\n"
     ]
    }
   ],
   "source": [
    "spark = SparkSession.builder \\\n",
    "    .appName(\"MyApp\") \\\n",
    "    .config(\"spark.pyspark.python\", \"C:/Users/alexa/AppData/Local/Programs/Python/Python39/python.exe\") \\\n",
    "    .config(\"spark.pyspark.driver.python\", \"C:/Users/alexa/AppData/Local/Programs/Python/Python39/python.exe\") \\\n",
    "    .getOrCreate()"
   ]
  },
  {
   "cell_type": "code",
   "execution_count": 3,
   "id": "de084899",
   "metadata": {
    "execution": {
     "iopub.execute_input": "2024-10-20T23:08:54.509334Z",
     "iopub.status.busy": "2024-10-20T23:08:54.508351Z",
     "iopub.status.idle": "2024-10-20T23:09:01.061903Z",
     "shell.execute_reply": "2024-10-20T23:09:01.060834Z"
    },
    "jupyter": {
     "source_hidden": true
    },
    "papermill": {
     "duration": 6.577471,
     "end_time": "2024-10-20T23:09:01.063472",
     "exception": false,
     "start_time": "2024-10-20T23:08:54.486001",
     "status": "completed"
    },
    "tags": []
   },
   "outputs": [
    {
     "name": "stderr",
     "output_type": "stream",
     "text": [
      "\r",
      "[Stage 0:>                                                          (0 + 1) / 1]\r",
      "\r",
      "                                                                                \r"
     ]
    }
   ],
   "source": [
    "# Caminho para os dados na camada silver (parquet)\n",
    "silver_path = '/opt/airflow/silver_layer'\n",
    "\n",
    "# Carregar os dados particionados da camada silver\n",
    "df_silver = spark.read.parquet(silver_path)\n",
    "\n",
    "# Agrupamento por tipo de cervejaria e estado\n",
    "df_gold = df_silver.groupBy(\"state\", \"brewery_type\").count()"
   ]
  },
  {
   "cell_type": "code",
   "execution_count": 4,
   "id": "2fc2cc51",
   "metadata": {
    "execution": {
     "iopub.execute_input": "2024-10-20T23:09:01.084920Z",
     "iopub.status.busy": "2024-10-20T23:09:01.084618Z",
     "iopub.status.idle": "2024-10-20T23:09:01.089010Z",
     "shell.execute_reply": "2024-10-20T23:09:01.088109Z"
    },
    "jupyter": {
     "source_hidden": true
    },
    "papermill": {
     "duration": 0.017691,
     "end_time": "2024-10-20T23:09:01.090281",
     "exception": false,
     "start_time": "2024-10-20T23:09:01.072590",
     "status": "completed"
    },
    "tags": []
   },
   "outputs": [],
   "source": [
    "gold_path = '/opt/airflow/gold_layer'"
   ]
  },
  {
   "cell_type": "code",
   "execution_count": 5,
   "id": "32aab89c",
   "metadata": {
    "execution": {
     "iopub.execute_input": "2024-10-20T23:09:01.111103Z",
     "iopub.status.busy": "2024-10-20T23:09:01.110825Z",
     "iopub.status.idle": "2024-10-20T23:09:01.360988Z",
     "shell.execute_reply": "2024-10-20T23:09:01.360178Z"
    },
    "jupyter": {
     "source_hidden": true
    },
    "papermill": {
     "duration": 0.262671,
     "end_time": "2024-10-20T23:09:01.362185",
     "exception": false,
     "start_time": "2024-10-20T23:09:01.099514",
     "status": "completed"
    },
    "tags": [],
    "vscode": {
     "languageId": "shellscript"
    }
   },
   "outputs": [],
   "source": [
    "rm -rf /opt/airflow/gold_layer/*"
   ]
  },
  {
   "cell_type": "code",
   "execution_count": 6,
   "id": "1710766e",
   "metadata": {
    "execution": {
     "iopub.execute_input": "2024-10-20T23:09:01.380053Z",
     "iopub.status.busy": "2024-10-20T23:09:01.379799Z",
     "iopub.status.idle": "2024-10-20T23:09:10.613367Z",
     "shell.execute_reply": "2024-10-20T23:09:10.611761Z"
    },
    "jupyter": {
     "source_hidden": true
    },
    "papermill": {
     "duration": 9.245083,
     "end_time": "2024-10-20T23:09:10.615070",
     "exception": false,
     "start_time": "2024-10-20T23:09:01.369987",
     "status": "completed"
    },
    "tags": []
   },
   "outputs": [
    {
     "name": "stderr",
     "output_type": "stream",
     "text": [
      "\r",
      "[Stage 1:>                                                          (0 + 8) / 8]\r"
     ]
    },
    {
     "name": "stderr",
     "output_type": "stream",
     "text": [
      "\r",
      "                                                                                \r"
     ]
    }
   ],
   "source": [
    "df_gold.write.mode('append').parquet(gold_path)"
   ]
  },
  {
   "cell_type": "code",
   "execution_count": 7,
   "id": "afdafe00",
   "metadata": {
    "execution": {
     "iopub.execute_input": "2024-10-20T23:09:10.640215Z",
     "iopub.status.busy": "2024-10-20T23:09:10.639641Z",
     "iopub.status.idle": "2024-10-20T23:09:10.827961Z",
     "shell.execute_reply": "2024-10-20T23:09:10.827066Z"
    },
    "jupyter": {
     "source_hidden": true
    },
    "papermill": {
     "duration": 0.205556,
     "end_time": "2024-10-20T23:09:10.829130",
     "exception": false,
     "start_time": "2024-10-20T23:09:10.623574",
     "status": "completed"
    },
    "tags": []
   },
   "outputs": [],
   "source": [
    "spark.stop()"
   ]
  }
 ],
 "metadata": {
  "kernelspec": {
   "display_name": "Python 3",
   "language": "python",
   "name": "python3"
  },
  "language_info": {
   "codemirror_mode": {
    "name": "ipython",
    "version": 3
   },
   "file_extension": ".py",
   "mimetype": "text/x-python",
   "name": "python",
   "nbconvert_exporter": "python",
   "pygments_lexer": "ipython3",
   "version": "3.11.5"
  },
  "papermill": {
   "default_parameters": {},
   "duration": 25.310333,
   "end_time": "2024-10-20T23:09:13.458296",
   "environment_variables": {},
   "exception": null,
   "input_path": "/opt/airflow/jobs/python/gold/load_data.ipynb",
   "output_path": "/opt/airflow/jobs/python/gold/load_data_output.ipynb",
   "parameters": {},
   "start_time": "2024-10-20T23:08:48.147963",
   "version": "2.6.0"
  }
 },
 "nbformat": 4,
 "nbformat_minor": 5
}